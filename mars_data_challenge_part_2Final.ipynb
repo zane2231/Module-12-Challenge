{
 "cells": [
  {
   "cell_type": "code",
   "execution_count": 1,
   "id": "0553df6d",
   "metadata": {},
   "outputs": [],
   "source": [
    "#Import Dependencies\n",
    "import requests\n",
    "import pandas as pd\n",
    "import seaborn as sns\n",
    "import matplotlib.pyplot as plt\n",
    "import numpy as np\n",
    "\n",
    "\n",
    "\n",
    "\n"
   ]
  },
  {
   "cell_type": "code",
   "execution_count": 22,
   "id": "df1017d2",
   "metadata": {},
   "outputs": [
    {
     "data": {
      "text/plain": [
       "[        id terrestrial_date   sol   ls  month  min_temp  pressure\n",
       " 0        2       2012-08-16    10  155      6     -75.0     739.0\n",
       " 1       13       2012-08-17    11  156      6     -76.0     740.0\n",
       " 2       24       2012-08-18    12  156      6     -76.0     741.0\n",
       " 3       35       2012-08-19    13  157      6     -74.0     732.0\n",
       " 4       46       2012-08-20    14  157      6     -74.0     740.0\n",
       " ...    ...              ...   ...  ...    ...       ...       ...\n",
       " 1862  1889       2018-02-23  1973  133      5     -78.0     730.0\n",
       " 1863  1892       2018-02-24  1974  134      5     -77.0     729.0\n",
       " 1864  1894       2018-02-25  1975  134      5     -76.0     729.0\n",
       " 1865  1893       2018-02-26  1976  135      5     -77.0     728.0\n",
       " 1866  1895       2018-02-27  1977  135      5     -77.0     727.0\n",
       " \n",
       " [1867 rows x 7 columns]]"
      ]
     },
     "execution_count": 22,
     "metadata": {},
     "output_type": "execute_result"
    }
   ],
   "source": [
    "#using pd.read to read the html url \n",
    "url = 'https://data-class-mars-challenge.s3.amazonaws.com/Mars/index.html'\n",
    "HTML = pd.read_html(url)\n",
    "HTML"
   ]
  },
  {
   "cell_type": "code",
   "execution_count": 23,
   "id": "f36117e4",
   "metadata": {},
   "outputs": [],
   "source": [
    "#coverting data into datafram\n",
    "table = HTML[0]"
   ]
  },
  {
   "cell_type": "code",
   "execution_count": 24,
   "id": "2f392b44",
   "metadata": {},
   "outputs": [
    {
     "data": {
      "text/plain": [
       "id                    int64\n",
       "terrestrial_date     object\n",
       "sol                   int64\n",
       "ls                    int64\n",
       "month                 int64\n",
       "min_temp            float64\n",
       "pressure            float64\n",
       "dtype: object"
      ]
     },
     "execution_count": 24,
     "metadata": {},
     "output_type": "execute_result"
    }
   ],
   "source": [
    "table.dtypes"
   ]
  },
  {
   "cell_type": "code",
   "execution_count": 25,
   "id": "04bfc113",
   "metadata": {},
   "outputs": [],
   "source": [
    "#fixing datatypes to correct format\n",
    "table['id'] = table['id'].astype(int)\n",
    "table['terrestrial_date'] = pd.to_datetime(table['terrestrial_date'], format=\"%Y-%m-%d\")\n",
    "table['sol'] = table['sol'].astype(int)\n",
    "table['ls'] = table['ls'].astype(int)\n",
    "table['month'] = table['month'].astype(int)\n",
    "table['min_temp'] = table['min_temp'].astype(float)\n",
    "table['pressure'] = table['pressure'].astype(float)"
   ]
  },
  {
   "cell_type": "code",
   "execution_count": 26,
   "id": "2d0ccbeb",
   "metadata": {},
   "outputs": [],
   "source": [
    "#Answer the following question: How many months exist on Mars?\n",
    "\n",
    "#Answer the following question: How many Martian (and not Earth) days worth of data exist in the scraped dataset?\n",
    "\n",
    "#Answer the following question: What are the coldest and the warmest months on Mars (at the location of Curiosity)? Get the answer by averaging the minimum daily temperature of all the months. Plot the results as a bar chart.\n",
    "\n",
    "#Answer the following question: Which months have the lowest and the highest atmospheric pressure on Mars? Get the answer by averaging the daily atmospheric pressure of all the months. Plot the results as a bar chart.\n",
    "\n",
    "#Answer the following question: About how many terrestrial (Earth) days exist in a Martian year? That is, in the time that Mars circles the Sun once, how many days elapse on Earth? Visually estimate the result by plotting the daily minimum temperature.\n",
    "\n",
    "#Export the DataFrame to a CSV file."
   ]
  },
  {
   "cell_type": "code",
   "execution_count": 29,
   "id": "9aad357d",
   "metadata": {},
   "outputs": [
    {
     "data": {
      "text/plain": [
       "12"
      ]
     },
     "execution_count": 29,
     "metadata": {},
     "output_type": "execute_result"
    }
   ],
   "source": [
    "#Answer the following question: How many months exist on Mars?\n",
    "max_month  = table['month'].max()\n",
    "max_month"
   ]
  },
  {
   "cell_type": "code",
   "execution_count": 40,
   "id": "c26f188e",
   "metadata": {},
   "outputs": [
    {
     "data": {
      "text/plain": [
       "<bound method Series.drop_duplicates of 0         10\n",
       "1         11\n",
       "2         12\n",
       "3         13\n",
       "4         14\n",
       "        ... \n",
       "1862    1973\n",
       "1863    1974\n",
       "1864    1975\n",
       "1865    1976\n",
       "1866    1977\n",
       "Name: sol, Length: 1867, dtype: int32>"
      ]
     },
     "execution_count": 40,
     "metadata": {},
     "output_type": "execute_result"
    }
   ],
   "source": [
    "#Answer the following question: How many Martian (and not Earth) days worth of data exist in the scraped dataset?\n",
    "Days_in_year = table['sol'].drop_duplicates\n",
    "Days_in_year\n",
    "#length shows there is 1867 different days in dataset \n"
   ]
  },
  {
   "cell_type": "code",
   "execution_count": 51,
   "id": "4804b575",
   "metadata": {},
   "outputs": [
    {
     "data": {
      "text/plain": [
       "<bound method NDFrame.head of                 id          sol          ls   min_temp    pressure\n",
       "month                                                             \n",
       "1      1013.873563  1077.574713   15.281609 -77.160920  862.488506\n",
       "2      1109.882022  1175.853933   44.258427 -79.932584  889.455056\n",
       "3      1132.697917  1204.406250   75.010417 -83.307292  877.322917\n",
       "4      1175.164948  1244.500000  104.365979 -82.747423  806.329897\n",
       "5      1115.033557  1182.691275  132.885906 -79.308725  748.557047\n",
       "6       735.306122   750.829932  164.897959 -75.299320  745.054422\n",
       "7       714.549296   715.105634  194.894366 -72.281690  795.105634\n",
       "8       718.078014   795.333333  224.347518 -68.382979  873.829787\n",
       "9       785.843284   861.186567  254.052239 -69.171642  913.305970\n",
       "10      955.723214  1034.669643  286.330357 -71.982143  887.312500\n",
       "11      874.246377   947.224638  314.536232 -71.985507  857.014493\n",
       "12      931.602410   990.951807  344.692771 -74.451807  842.156627>"
      ]
     },
     "execution_count": 51,
     "metadata": {},
     "output_type": "execute_result"
    }
   ],
   "source": [
    "#group columns on mounth and find mean\n",
    "Avg = table.groupby('month').mean()\n",
    "Avg.head\n",
    "\n",
    "\n"
   ]
  },
  {
   "cell_type": "code",
   "execution_count": 52,
   "id": "74236b86",
   "metadata": {},
   "outputs": [],
   "source": [
    "#Answer the following question: What are the coldest and the warmest months on Mars (at the location of Curiosity)? Get the answer by averaging the minimum daily temperature of all the months. Plot the results as a bar chart.\n",
    "#Avg\n",
    "#printing out min and max values \n",
    "coldest = Avg['min_temp'].min()\n",
    "warmest = Avg['min_temp'].max()\n",
    " \n",
    " \n",
    "\n"
   ]
  },
  {
   "cell_type": "code",
   "execution_count": 53,
   "id": "5339d5fd",
   "metadata": {},
   "outputs": [
    {
     "data": {
      "text/plain": [
       "-83.30729166666667"
      ]
     },
     "execution_count": 53,
     "metadata": {},
     "output_type": "execute_result"
    }
   ],
   "source": [
    "coldest"
   ]
  },
  {
   "cell_type": "code",
   "execution_count": 54,
   "id": "86321bfb",
   "metadata": {},
   "outputs": [
    {
     "data": {
      "text/plain": [
       "-68.38297872340425"
      ]
     },
     "execution_count": 54,
     "metadata": {},
     "output_type": "execute_result"
    }
   ],
   "source": [
    "warmest"
   ]
  },
  {
   "cell_type": "code",
   "execution_count": 64,
   "id": "e55e6411",
   "metadata": {},
   "outputs": [
    {
     "data": {
      "text/plain": [
       "Text(0.5, 1.0, 'Minimum Temps')"
      ]
     },
     "execution_count": 64,
     "metadata": {},
     "output_type": "execute_result"
    },
    {
     "data": {
      "image/png": "[encoded data removed]",
      "text/plain": [
       "<Figure size 432x288 with 1 Axes>"
      ]
     },
     "metadata": {
      "needs_background": "light"
     },
     "output_type": "display_data"
    }
   ],
   "source": [
    "#plotting the months coldest temps\n",
    "yAxis = Avg['min_temp']\n",
    "xAxis = np.arange(len(yAxis))\n",
    "plt.bar(xAxis, yAxis, color='b', alpha=0.5, align=\"center\")\n",
    "plt.xlabel('Month')\n",
    "plt.ylabel('Avg min temp')\n",
    "plt.title('Minimum Temps')"
   ]
  },
  {
   "cell_type": "code",
   "execution_count": 65,
   "id": "26730ed4",
   "metadata": {},
   "outputs": [],
   "source": [
    "#Answer the following question: Which months have the lowest and the highest atmospheric pressure on Mars? Get the answer by averaging the daily atmospheric pressure of all the months. Plot the results as a bar chart.\n",
    "\n",
    "#printing out min and max values lowPressure = marsAvgDF['pressure'].min()\n",
    "lowPressure = Avg['pressure'].min()\n",
    "highPressure = Avg['pressure'].max()\n",
    "\n"
   ]
  },
  {
   "cell_type": "code",
   "execution_count": 66,
   "id": "cb4d2afb",
   "metadata": {},
   "outputs": [
    {
     "data": {
      "text/plain": [
       "745.0544217687075"
      ]
     },
     "execution_count": 66,
     "metadata": {},
     "output_type": "execute_result"
    }
   ],
   "source": [
    "lowPressure"
   ]
  },
  {
   "cell_type": "code",
   "execution_count": 67,
   "id": "bd3a6461",
   "metadata": {},
   "outputs": [
    {
     "data": {
      "text/plain": [
       "913.3059701492538"
      ]
     },
     "execution_count": 67,
     "metadata": {},
     "output_type": "execute_result"
    }
   ],
   "source": [
    "highPressure"
   ]
  },
  {
   "cell_type": "code",
   "execution_count": 71,
   "id": "d5e5934f",
   "metadata": {},
   "outputs": [
    {
     "data": {
      "text/plain": [
       "Text(0.5, 1.0, 'Pressure')"
      ]
     },
     "execution_count": 71,
     "metadata": {},
     "output_type": "execute_result"
    },
    {
     "data": {
      "image/png": "[encoded data removed]",
      "text/plain": [
       "<Figure size 432x288 with 1 Axes>"
      ]
     },
     "metadata": {
      "needs_background": "light"
     },
     "output_type": "display_data"
    }
   ],
   "source": [
    "#plotting the months avg pressure\n",
    "yAxis1 = Avg['pressure']\n",
    "xAxis1 = np.arange(len(yAxis1))\n",
    "plt.bar(xAxis1, yAxis1, color='b', alpha=0.5, align=\"center\")\n",
    "plt.xlabel('Month')\n",
    "plt.ylabel('Avg pressure')\n",
    "plt.title('Pressure')"
   ]
  },
  {
   "cell_type": "code",
   "execution_count": null,
   "id": "80c47afb",
   "metadata": {},
   "outputs": [],
   "source": [
    "#Answer the following question: About how many terrestrial (Earth) days exist in a Martian year? That is, in the time that Mars circles the Sun once, how many days elapse on Earth? Visually estimate the result by plotting the daily minimum temperature.\n",
    "#did not understnad question "
   ]
  },
  {
   "cell_type": "code",
   "execution_count": null,
   "id": "ec8b83c0",
   "metadata": {},
   "outputs": [],
   "source": []
  },
  {
   "cell_type": "code",
   "execution_count": 73,
   "id": "085db0cf",
   "metadata": {},
   "outputs": [],
   "source": [
    "#Export df to file \"mars_df\"\n",
    "table.to_csv (r'C:\\Users\\zaner\\Desktop\\mars_df.csv', index = False, header=True)"
   ]
  },
  {
   "cell_type": "code",
   "execution_count": null,
   "id": "4368754d",
   "metadata": {},
   "outputs": [],
   "source": []
  }
 ],
 "metadata": {
  "kernelspec": {
   "display_name": "Python 3 (ipykernel)",
   "language": "python",
   "name": "python3"
  },
  "language_info": {
   "codemirror_mode": {
    "name": "ipython",
    "version": 3
   },
   "file_extension": ".py",
   "mimetype": "text/x-python",
   "name": "python",
   "nbconvert_exporter": "python",
   "pygments_lexer": "ipython3",
   "version": "3.9.12"
  }
 },
 "nbformat": 4,
 "nbformat_minor": 5
}
